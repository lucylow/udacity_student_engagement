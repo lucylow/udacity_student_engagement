{
 "cells": [
  {
   "cell_type": "markdown",
   "metadata": {},
   "source": [
    "# Data Analysis of Udacity Student Engagements\n",
    "\n",
    "This data analysis was homework from [Udacity's Intro to Data Analysis](https://www.udacity.com/course/intro-to-data-analysis--ud170) course. The focus will be on the general data analysis process and using pure python with few additional libraries. "
   ]
  },
  {
   "cell_type": "markdown",
   "metadata": {},
   "source": [
    "## 1 ) Loading Data\n",
    "\n",
    "We will be working with three CSV files:\n",
    "* 1) enrollments.csv\n",
    "* 2) daily_engagement.csv\n",
    "* 3) project_submissions.csv"
   ]
  },
  {
   "cell_type": "code",
   "execution_count": 1,
   "metadata": {
    "collapsed": true
   },
   "outputs": [],
   "source": [
    "# Import libraries  \n",
    "import unicodecsv\n",
    "from datetime import datetime as dt\n",
    "from collections import defaultdict\n",
    "import numpy as np\n",
    "import matplotlib.pyplot as plt\n",
    "%matplotlib inline\n",
    "\n",
    "def read_csv(filename):\n",
    "    with open(filename, 'rb') as f:                # rb = read file in binary mode for CSVs\n",
    "        reader = unicodecsv.DictReader(f)\n",
    "        return list(reader)\n",
    "\n",
    "# Call read_csv \n",
    "enrollments = read_csv('enrollments.csv')\n",
    "daily_engagement = read_csv('daily_engagement.csv')\n",
    "project_submissions = read_csv('project_submissions.csv')   "
   ]
  },
  {
   "cell_type": "markdown",
   "metadata": {},
   "source": [
    "## 2) Data Cleaning\n",
    "\n",
    "Now that the data is loaded, we need to understand what we are working with. \n",
    "\n",
    "* 1) The \"enrollments.csv\" file contains data for a random subset of students who complete their first project and a random subset of students who do not.\n",
    "\n",
    "* 2) The \"daily_engagement.csv\" file contains data about engagement within udacity nanodegree courses for each student in the enrollment table on each day they were enrolled. Includes a record even if there was no engagement that day. It includes engagement data from both the supporting courses for the nanodegree program, and the corresponding freely available courses with the same content.\n",
    "\n",
    "* 3) The \"project_submissions.csv\" file contains data about submissions for projects for each student in the enrollment table.\n"
   ]
  },
  {
   "cell_type": "code",
   "execution_count": 2,
   "metadata": {
    "scrolled": false
   },
   "outputs": [
    {
     "name": "stdout",
     "output_type": "stream",
     "text": [
      "Enrollment: {u'status': u'canceled', u'is_udacity': u'True', u'is_canceled': u'True', u'join_date': u'2014-11-10', u'account_key': u'448', u'cancel_date': u'2015-01-14', u'days_to_cancel': u'65'}\n",
      "\n",
      "Daily Engagement: {u'lessons_completed': u'0.0', u'num_courses_visited': u'1.0', u'total_minutes_visited': u'11.6793745', u'projects_completed': u'0.0', u'acct': u'0', u'utc_date': u'2015-01-09'}\n",
      "\n",
      "Project Submission: {u'lesson_key': u'3176718735', u'processing_state': u'EVALUATED', u'account_key': u'256', u'assigned_rating': u'UNGRADED', u'completion_date': u'2015-01-16', u'creation_date': u'2015-01-14'}\n"
     ]
    }
   ],
   "source": [
    "# Check data was loaded correctly. Print out the first row of each table.\n",
    "print \"Enrollment:\", enrollments[0]\n",
    "print\n",
    "print \"Daily Engagement:\", daily_engagement[0]\n",
    "print\n",
    "print \"Project Submission:\", project_submissions[0]"
   ]
  },
  {
   "cell_type": "markdown",
   "metadata": {},
   "source": [
    "#### Renaming Columns: account_key and acct\n",
    "\n",
    "We have an \"account_key\" column in the enrollments and project_submissions tables, but an \"acct\" column in the daily_engagement table. Assuming these are all corresponding to the unique verification of a student's account, we can rename the column \"acct\" to \"account_key\". \n"
   ]
  },
  {
   "cell_type": "code",
   "execution_count": 3,
   "metadata": {},
   "outputs": [
    {
     "data": {
      "text/plain": [
       "{u'acct': u'0',\n",
       " u'lessons_completed': u'0.0',\n",
       " u'num_courses_visited': u'1.0',\n",
       " u'projects_completed': u'0.0',\n",
       " u'total_minutes_visited': u'33.4892696667',\n",
       " u'utc_date': u'2015-01-12'}"
      ]
     },
     "execution_count": 3,
     "metadata": {},
     "output_type": "execute_result"
    }
   ],
   "source": [
    "daily_engagement[3]"
   ]
  },
  {
   "cell_type": "code",
   "execution_count": 4,
   "metadata": {},
   "outputs": [
    {
     "data": {
      "text/plain": [
       "{'account_key': u'0',\n",
       " u'lessons_completed': u'0.0',\n",
       " u'num_courses_visited': u'1.0',\n",
       " u'projects_completed': u'0.0',\n",
       " u'total_minutes_visited': u'11.6793745',\n",
       " u'utc_date': u'2015-01-09'}"
      ]
     },
     "execution_count": 4,
     "metadata": {},
     "output_type": "execute_result"
    }
   ],
   "source": [
    "for engagement_record in daily_engagement:\n",
    "    engagement_record['account_key'] = engagement_record['acct']\n",
    "    # Delete the old column \n",
    "    del[engagement_record['acct']]\n",
    "\n",
    "# Check that column is renamed \"account_key\" instead of \"acct\" \n",
    "daily_engagement[0]"
   ]
  },
  {
   "cell_type": "markdown",
   "metadata": {},
   "source": [
    "#### Converting Data Types \n",
    "\n",
    "From printing out the first row of each table, we see the read_me function automatically converted all the datatypes to strings. \n",
    "\n",
    "* Date Data Types: Create a parse_date function. The \"cancel_date\" data can be converted to a Python datetime object. If the string is empty, then the student has not cancelled yet. The \"days_to_cancel\" data can be an empty string. If the string is empty, it means the student has not cancelled yet. \n",
    "* The 'account_key' data is kept as a string of numbers since they are unique and we will not be working mathematically with them. "
   ]
  },
  {
   "cell_type": "code",
   "execution_count": 5,
   "metadata": {
    "collapsed": true
   },
   "outputs": [],
   "source": [
    "# Strings to DateTime objects \n",
    "def parse_date(date):\n",
    "    if date == '': \n",
    "        return None\n",
    "    else:\n",
    "        return dt.strptime(date, '%Y-%m-%d')\n",
    "    \n",
    "# Strings to Integers \n",
    "def parse_maybe_int(i):\n",
    "    if i == '': \n",
    "        return None \n",
    "    else:\n",
    "        return int(i)"
   ]
  },
  {
   "cell_type": "code",
   "execution_count": 6,
   "metadata": {},
   "outputs": [
    {
     "data": {
      "text/plain": [
       "{u'account_key': u'448',\n",
       " u'cancel_date': datetime.datetime(2015, 1, 14, 0, 0),\n",
       " u'days_to_cancel': 65,\n",
       " u'is_canceled': True,\n",
       " u'is_udacity': True,\n",
       " u'join_date': datetime.datetime(2014, 11, 10, 0, 0),\n",
       " u'status': u'canceled'}"
      ]
     },
     "execution_count": 6,
     "metadata": {},
     "output_type": "execute_result"
    }
   ],
   "source": [
    "# Cleaning enrollment table\n",
    "for enrollment in enrollments:\n",
    "    # The is_canceled and is_udacity columns should both be boolean outputs \n",
    "    enrollment['cancel_date'] = parse_date(enrollment['cancel_date'])\n",
    "    enrollment['days_to_cancel'] = parse_maybe_int(enrollment['days_to_cancel'])\n",
    "    enrollment['is_canceled'] = enrollment['is_canceled'] == 'True'\n",
    "    enrollment['is_udacity'] = enrollment['is_udacity'] == 'True'\n",
    "    enrollment['join_date'] = parse_date(enrollment['join_date'])\n",
    "enrollments[0]"
   ]
  },
  {
   "cell_type": "code",
   "execution_count": 7,
   "metadata": {},
   "outputs": [
    {
     "data": {
      "text/plain": [
       "{'account_key': u'0',\n",
       " u'lessons_completed': 0,\n",
       " u'num_courses_visited': 1,\n",
       " u'projects_completed': 0,\n",
       " u'total_minutes_visited': 11.6793745,\n",
       " u'utc_date': datetime.datetime(2015, 1, 9, 0, 0)}"
      ]
     },
     "execution_count": 7,
     "metadata": {},
     "output_type": "execute_result"
    }
   ],
   "source": [
    "# Cleaning Daily Engagements table \n",
    "for engagement_record in daily_engagement:\n",
    "    # On Udacity, lessons_completed, num_courses_visited, and projects_completed need to be an integer\n",
    "    # i.e. a student can not complete 0.5 of a lesson \n",
    "    engagement_record['lessons_completed'] = int(float(engagement_record['lessons_completed']))\n",
    "    engagement_record['num_courses_visited'] = int(float(engagement_record['num_courses_visited']))\n",
    "    engagement_record['projects_completed'] = int(float(engagement_record['projects_completed']))\n",
    "    engagement_record['total_minutes_visited'] = float(engagement_record['total_minutes_visited'])\n",
    "    engagement_record['utc_date'] = parse_date(engagement_record['utc_date'])\n",
    "daily_engagement[0]"
   ]
  },
  {
   "cell_type": "code",
   "execution_count": 8,
   "metadata": {
    "scrolled": true
   },
   "outputs": [
    {
     "data": {
      "text/plain": [
       "{u'account_key': u'256',\n",
       " u'assigned_rating': u'UNGRADED',\n",
       " u'completion_date': datetime.datetime(2015, 1, 16, 0, 0),\n",
       " u'creation_date': datetime.datetime(2015, 1, 14, 0, 0),\n",
       " u'lesson_key': u'3176718735',\n",
       " u'processing_state': u'EVALUATED'}"
      ]
     },
     "execution_count": 8,
     "metadata": {},
     "output_type": "execute_result"
    }
   ],
   "source": [
    "# Cleaning the project_submissions table \n",
    "for submission in project_submissions:\n",
    "    submission['completion_date'] = parse_date(submission['completion_date'])\n",
    "    submission['creation_date'] = parse_date(submission['creation_date'])\n",
    "project_submissions[0]"
   ]
  },
  {
   "cell_type": "markdown",
   "metadata": {},
   "source": [
    "#### Edge Case: Registered students with zero engagement records \n",
    "\n",
    "There are more unique students in the enrollments and project_submission tables than the daily_engagement table. A possible explanation is that students are enrolling, cancelling, and re-enrolling. Let's explore this further:"
   ]
  },
  {
   "cell_type": "code",
   "execution_count": 9,
   "metadata": {},
   "outputs": [
    {
     "name": "stdout",
     "output_type": "stream",
     "text": [
      "Rows in enrollment table: 1640\n",
      "Rows in daily engagement table: 136240\n",
      "Rows in project submission table: 3642\n",
      "Number of unique enrolled students: 1302\n",
      "Number of unique engaged students 1237\n",
      "Number of unique project submitting students 743\n"
     ]
    }
   ],
   "source": [
    "# Total number of rows in the enrollment table \n",
    "print \"Rows in enrollment table:\", len(enrollments) #1640\n",
    "print \"Rows in daily engagement table:\", len(daily_engagement) #136240\n",
    "print \"Rows in project submission table:\", len(project_submissions) #3642\n",
    "\n",
    "# From all the rows in a table, find the subset of unique students\n",
    "def get_unique_students(data):\n",
    "    unique_students = set()\n",
    "    for data_point in data:\n",
    "        # Add to set \n",
    "        unique_students.add(data_point['account_key'])    \n",
    "    return unique_students\n",
    "\n",
    "# Get unique students from each table \n",
    "unique_enrolled_students = get_unique_students(enrollments)\n",
    "unique_engagement_students = get_unique_students(daily_engagement)\n",
    "unique_project_submitters = get_unique_students(project_submissions)\n",
    "print \"Number of unique enrolled students:\", len(unique_enrolled_students) # 1302\n",
    "print \"Number of unique engaged students\", len(unique_engagement_students) # 1237 \n",
    "print \"Number of unique project submitting students\", len(unique_project_submitters) # 743\n"
   ]
  },
  {
   "cell_type": "markdown",
   "metadata": {},
   "source": [
    "On the day a user signs up, the daily_engagement table makes a record of that event. Therefore the number of unique enrolled students should equal the number of unique engaged students. Let's look for patterns."
   ]
  },
  {
   "cell_type": "code",
   "execution_count": 10,
   "metadata": {
    "scrolled": false
   },
   "outputs": [
    {
     "name": "stdout",
     "output_type": "stream",
     "text": [
      "{u'status': u'canceled', u'is_udacity': False, u'is_canceled': True, u'join_date': datetime.datetime(2014, 11, 12, 0, 0), u'account_key': u'1219', u'cancel_date': datetime.datetime(2014, 11, 12, 0, 0), u'days_to_cancel': 0}\n",
      "{u'status': u'canceled', u'is_udacity': False, u'is_canceled': True, u'join_date': datetime.datetime(2014, 11, 13, 0, 0), u'account_key': u'871', u'cancel_date': datetime.datetime(2014, 11, 13, 0, 0), u'days_to_cancel': 0}\n",
      "{u'status': u'canceled', u'is_udacity': False, u'is_canceled': True, u'join_date': datetime.datetime(2014, 11, 15, 0, 0), u'account_key': u'1218', u'cancel_date': datetime.datetime(2014, 11, 15, 0, 0), u'days_to_cancel': 0}\n",
      "{u'status': u'canceled', u'is_udacity': False, u'is_canceled': True, u'join_date': datetime.datetime(2014, 12, 4, 0, 0), u'account_key': u'654', u'cancel_date': datetime.datetime(2014, 12, 4, 0, 0), u'days_to_cancel': 0}\n",
      "{u'status': u'canceled', u'is_udacity': False, u'is_canceled': True, u'join_date': datetime.datetime(2014, 12, 4, 0, 0), u'account_key': u'654', u'cancel_date': datetime.datetime(2014, 12, 4, 0, 0), u'days_to_cancel': 0}\n",
      "{u'status': u'canceled', u'is_udacity': False, u'is_canceled': True, u'join_date': datetime.datetime(2014, 12, 3, 0, 0), u'account_key': u'654', u'cancel_date': datetime.datetime(2014, 12, 3, 0, 0), u'days_to_cancel': 0}\n",
      "{u'status': u'canceled', u'is_udacity': False, u'is_canceled': True, u'join_date': datetime.datetime(2014, 12, 4, 0, 0), u'account_key': u'964', u'cancel_date': datetime.datetime(2014, 12, 4, 0, 0), u'days_to_cancel': 0}\n",
      "{u'status': u'canceled', u'is_udacity': False, u'is_canceled': True, u'join_date': datetime.datetime(2014, 12, 9, 0, 0), u'account_key': u'817', u'cancel_date': datetime.datetime(2014, 12, 9, 0, 0), u'days_to_cancel': 0}\n",
      "{u'status': u'canceled', u'is_udacity': False, u'is_canceled': True, u'join_date': datetime.datetime(2015, 1, 7, 0, 0), u'account_key': u'1171', u'cancel_date': datetime.datetime(2015, 1, 7, 0, 0), u'days_to_cancel': 0}\n",
      "{u'status': u'canceled', u'is_udacity': False, u'is_canceled': True, u'join_date': datetime.datetime(2015, 1, 8, 0, 0), u'account_key': u'884', u'cancel_date': datetime.datetime(2015, 1, 8, 0, 0), u'days_to_cancel': 0}\n"
     ]
    }
   ],
   "source": [
    "# Print 10 enrolled students with no engagements \n",
    "i = 0\n",
    "for enrollment in enrollments:\n",
    "    student = enrollment['account_key']\n",
    "    # Check if account key is in the set of unique students \n",
    "    if student not in unique_engagement_students and i < 10:\n",
    "        i += 1 \n",
    "        print enrollment "
   ]
  },
  {
   "cell_type": "markdown",
   "metadata": {},
   "source": [
    "We notice join_date and cancel_date are the same for each row. We guess that perhaps a user has to be active for one full day before daily engagement is registered? This is not a problem. We will not be excluding these students from the analysis."
   ]
  },
  {
   "cell_type": "markdown",
   "metadata": {},
   "source": [
    "#### Edge case: Test accounts\n",
    "\n",
    "What if there were students in the enrollment table missing from the engagement table who were enrolled for more than a day? We notice three accounts which follow this pattern."
   ]
  },
  {
   "cell_type": "code",
   "execution_count": 11,
   "metadata": {
    "scrolled": true
   },
   "outputs": [
    {
     "name": "stdout",
     "output_type": "stream",
     "text": [
      "{u'status': u'canceled', u'is_udacity': True, u'is_canceled': True, u'join_date': datetime.datetime(2015, 1, 10, 0, 0), u'account_key': u'1304', u'cancel_date': datetime.datetime(2015, 3, 10, 0, 0), u'days_to_cancel': 59}\n",
      "{u'status': u'canceled', u'is_udacity': True, u'is_canceled': True, u'join_date': datetime.datetime(2015, 3, 10, 0, 0), u'account_key': u'1304', u'cancel_date': datetime.datetime(2015, 6, 17, 0, 0), u'days_to_cancel': 99}\n",
      "{u'status': u'current', u'is_udacity': True, u'is_canceled': False, u'join_date': datetime.datetime(2015, 2, 25, 0, 0), u'account_key': u'1101', u'cancel_date': None, u'days_to_cancel': None}\n"
     ]
    }
   ],
   "source": [
    "# Look for edge cases\n",
    "num_problem_students = 0 \n",
    "for enrollment in enrollments:\n",
    "    student = enrollment['account_key']\n",
    "    # Check if student was enrolled for more than a day \n",
    "    if student not in unique_engagement_students and enrollment['join_date'] != enrollment['cancel_date']:\n",
    "        num_problem_students += 1\n",
    "        print enrollment"
   ]
  },
  {
   "cell_type": "markdown",
   "metadata": {},
   "source": [
    "There were three problem accounts. According to Udacity, since \"is_udacity\" is set to True, these accounts were test accounts only used for testing."
   ]
  },
  {
   "cell_type": "code",
   "execution_count": 12,
   "metadata": {},
   "outputs": [
    {
     "name": "stdout",
     "output_type": "stream",
     "text": [
      "Test accounts:  set([u'1304', u'1069', u'448', u'312', u'818', u'1101'])\n",
      "\n",
      "Enrollments with test accounts removed: 1622\n",
      "Daily engagements with test accounts removed: 135656\n",
      "Project submissions with test accounts removed: 3634\n"
     ]
    }
   ],
   "source": [
    "# Find all test accounts where \"is_udacity\" == True\n",
    "udacity_test_accounts = set()\n",
    "for enrollment in enrollments:\n",
    "    if enrollment['is_udacity']:\n",
    "        # Add to set \n",
    "        udacity_test_accounts.add(enrollment['account_key'])\n",
    "print \"Test accounts: \", udacity_test_accounts\n",
    "    \n",
    "# Remove all test accounts \n",
    "def remove_udacity_accounts(data):\n",
    "    non_udacity_data = []\n",
    "    for data_point in data:\n",
    "        if data_point['account_key'] not in udacity_test_accounts:\n",
    "            non_udacity_data.append(data_point)\n",
    "    return non_udacity_data\n",
    "\n",
    "# Remove Udacity test accounts from all three tables\n",
    "non_udacity_enrollments = remove_udacity_accounts(enrollments)\n",
    "non_udacity_engagement = remove_udacity_accounts(daily_engagement)\n",
    "non_udacity_submissions = remove_udacity_accounts(project_submissions)\n",
    "print\n",
    "print \"Enrollments with test accounts removed:\", len(non_udacity_enrollments)\n",
    "print \"Daily engagements with test accounts removed:\", len(non_udacity_engagement)\n",
    "print \"Project submissions with test accounts removed:\", len(non_udacity_submissions)"
   ]
  },
  {
   "cell_type": "markdown",
   "metadata": {},
   "source": [
    "## 3) Investigating the Data\n",
    "\n",
    "\n",
    "Now that we cleaned the data, it is time to start investigating the data.\n",
    "\n",
    "        \n",
    "* Relations between features and...\n",
    "    * students passing projects \n",
    "        * time, engagement, prereq knowledge, multiple submissions?, number of courses they are taking at the same time\n",
    "    * student engagement overall \n",
    "        * rating of a course, cancellation rate\n",
    "    * student cancelling the course \n",
    "    \n",
    "    \n",
    "\n",
    "General Business Questions \n",
    "* How do we improve user retention \n",
    "* How do we improve user engagement \n",
    "* How do we increase the number of students passing their projects \n"
   ]
  },
  {
   "cell_type": "markdown",
   "metadata": {},
   "source": [
    "#### Investigation: Does daily engagement affect the project completion rate?  \n",
    "\n",
    "First we isolate only the paid students since the Udacity free trial membership ends in one week. From this dictionary of paid_students, we will look at their engagement data. For simplification purposes, we assume data in daily_engagement table is only for the first project. In the full_daily_engagement table, data is seperated by project."
   ]
  },
  {
   "cell_type": "code",
   "execution_count": 13,
   "metadata": {},
   "outputs": [
    {
     "name": "stdout",
     "output_type": "stream",
     "text": [
      "Number of students with paid memberships: 995\n",
      "Paid_enrollments data with free trials removed: 1293\n",
      "Paid_engagement data with free trials removed: 134549\n",
      "Paid_submissions data with free trials removed: 3618\n"
     ]
    }
   ],
   "source": [
    "# Find subset of paid students\n",
    "paid_students = {}\n",
    "for enrollment in non_udacity_enrollments:\n",
    "    if not enrollment['is_canceled'] or enrollment['days_to_cancel'] > 7:\n",
    "        account_key = enrollment['account_key']\n",
    "        enrollment_date = enrollment['join_date']\n",
    "        # Check for student's most recent enrollment date (can enroll more than once)\n",
    "        if account_key not in paid_students or enrollment_date > paid_students[account_key]:\n",
    "            paid_students[account_key] = enrollment_date\n",
    "print \"Number of students with paid memberships:\", len(paid_students)\n",
    "\n",
    "\n",
    "# Function checks whether two dates are within 7 days of each other\n",
    "def within_one_week(join_date, engagement_date):\n",
    "    time_delta = engagement_date - join_date\n",
    "    return time_delta.days < 7 and time_delta.days >= 0\n",
    "\n",
    "\n",
    "# Remove students who canceled from the 7 day free trial \n",
    "def remove_free_trial_cancels(data):\n",
    "    new_data = []\n",
    "    for data_point in data:\n",
    "        if data_point['account_key'] in paid_students:\n",
    "            new_data.append(data_point)\n",
    "    return new_data \n",
    "\n",
    "\n",
    "# Call function to the three datasets\n",
    "paid_enrollments = remove_free_trial_cancels(non_udacity_enrollments)\n",
    "paid_engagement = remove_free_trial_cancels(non_udacity_engagement)\n",
    "paid_submissions = remove_free_trial_cancels(non_udacity_submissions)\n",
    "print \"Paid_enrollments data with free trials removed:\", len(paid_enrollments)\n",
    "print \"Paid_engagement data with free trials removed:\", len(paid_engagement)\n",
    "print \"Paid_submissions data with free trials removed:\", len(paid_submissions)"
   ]
  },
  {
   "cell_type": "code",
   "execution_count": 14,
   "metadata": {},
   "outputs": [
    {
     "name": "stdout",
     "output_type": "stream",
     "text": [
      "Number of engagement records from a student's first week: 6919\n"
     ]
    }
   ],
   "source": [
    "# Find number of engagement records from a student's first week\n",
    "paid_engagement_in_first_week = []\n",
    "for engagement_record in paid_engagement: \n",
    "    account_key = engagement_record['account_key']\n",
    "    join_date = paid_students[account_key]\n",
    "    engagement_record_date = engagement_record['utc_date']\n",
    "    # Check if two dates are within one week of each other \n",
    "    if within_one_week(join_date, engagement_record_date):\n",
    "        paid_engagement_in_first_week.append(engagement_record)\n",
    "\n",
    "print \"Number of engagement records from a student's first week:\", len(paid_engagement_in_first_week)"
   ]
  },
  {
   "cell_type": "code",
   "execution_count": 15,
   "metadata": {
    "collapsed": true,
    "scrolled": true
   },
   "outputs": [],
   "source": [
    "# Added \"has_visited\" column counts # of courses visited by a student \n",
    "for engagement_record in paid_engagement:\n",
    "    if engagement_record['num_courses_visited'] > 0: \n",
    "        engagement_record['has_visited'] = 1\n",
    "    else:\n",
    "        engagement_record['has_visited'] = 0 "
   ]
  },
  {
   "cell_type": "markdown",
   "metadata": {},
   "source": [
    "#### - Average minutes spent in classroom\n",
    "\n",
    "We can find the average minutes spent in the classroom by creating a dictionary of account keys, and a list of engagement records with total_minutes_visited for each account. For each student, we sum up the total minutes spent in the classroom, and then compute the average."
   ]
  },
  {
   "cell_type": "code",
   "execution_count": 16,
   "metadata": {},
   "outputs": [
    {
     "name": "stdout",
     "output_type": "stream",
     "text": [
      "Mean: 306.708326753\n",
      "Standard deviation: 412.996933409\n",
      "Minimum: 0.0\n",
      "Maximum: 3564.7332645\n"
     ]
    }
   ],
   "source": [
    "# Group engagement data by account key. Values are lists of engagement records. \n",
    "engagement_by_account = defaultdict(list)\n",
    "for engagement_record in paid_engagement_in_first_week:\n",
    "    account_key = engagement_record['account_key']\n",
    "    engagement_by_account[account_key].append(engagement_record)\n",
    "    \n",
    "    \n",
    "# For each account, sum up minutes in each list.\n",
    "total_minutes_by_account = {} # An int for each account\n",
    "for account_key, engagement_for_student in engagement_by_account.items():\n",
    "    total_minutes = 0\n",
    "    for engagement_record in engagement_for_student:\n",
    "        total_minutes += engagement_record['total_minutes_visited']\n",
    "    total_minutes_by_account[account_key] = total_minutes\n",
    "\n",
    "    \n",
    "# Get average of the total_minutes_by_account \n",
    "total_minutes = total_minutes_by_account.values()\n",
    "\n",
    "\n",
    "# Summary data\n",
    "print 'Mean:', np.mean(total_minutes)\n",
    "print 'Standard deviation:', np.std(total_minutes)\n",
    "print 'Minimum:', np.min(total_minutes)\n",
    "print 'Maximum:', np.max(total_minutes)\n",
    "    "
   ]
  },
  {
   "cell_type": "markdown",
   "metadata": {},
   "source": [
    "#### - Aside: Fixing problems with the maximum number of minutes\n",
    "\n",
    "The first time i ran this - there was an error where maximum was 10,568 minutes. There is only 10,080 minutes in one week. We isolated students with higher than 10,080 minutes of engagement in one week and noticed that our within_one_week function had an error. Students who enrolled, dropped the course, then re-enrolled were the result of this error. A solution to this problem is to check engagement data only for a student's most recent enrollment. We can do that by making sure that join date is equal to the engaement date. I commented out the original function, fixed the problem, and reran the cells.\n",
    "\n",
    "Original within_one_week function:\n",
    "* def within_one_week(join_date, engagement_date):\n",
    "*    time_delta = engagement_date - join_date\n",
    "*    return time_delta.days < 7\n",
    "\n",
    "New within_one_week function:\n",
    "* def within_one_week(join_date, engagement_date):\n",
    "*    time_delta = engagement_date - join_date\n",
    "*    return time_delta.days < 7 and time_delta.days >= 0\n",
    "\n"
   ]
  },
  {
   "cell_type": "markdown",
   "metadata": {},
   "source": [
    "#### Investigation: Lessons Completed in First Week"
   ]
  },
  {
   "cell_type": "markdown",
   "metadata": {},
   "source": [
    "To find the average number of lessons completed in the first week, we can write simular code. To save time, we create three functions to do the following:\n",
    "* 1) Group \"records\" by account_key\n",
    "* 2) Sum up \"records\" for each account_key \n",
    "* 3) Print the mean, standard deviation, maximum, and minimum of these \"records\""
   ]
  },
  {
   "cell_type": "code",
   "execution_count": 17,
   "metadata": {
    "collapsed": true
   },
   "outputs": [],
   "source": [
    "# Group \"records\" by account_key\n",
    "def group_data(data, key_name):\n",
    "    \"\"\"\n",
    "    Group_data takes \"data\" which is a dictionary of data, and \"key_name\" which\n",
    "    is a column name and groups all records by that column name.\n",
    "    \"\"\"\n",
    "    grouped_data = defaultdict(list)\n",
    "    for data_point in data:\n",
    "        key = data_point[key_name]\n",
    "        grouped_data[key].append(data_point)\n",
    "    return grouped_data \n",
    "\n",
    "# Sum up \"records\" for each account_key \n",
    "def sum_grouped_items(grouped_data, field_name):\n",
    "    '''\n",
    "    Sum_grouped_items takes \"grouped_data\" which is a dictionary of lists, and \n",
    "    \"field_name\" which is the column header we want to sum over.\n",
    "    '''\n",
    "    summed_data = {}\n",
    "    for key, data_points in grouped_data.items():\n",
    "        total = 0 \n",
    "        for data_point in data_points:\n",
    "            total += data_point[field_name]\n",
    "        summed_data[key] = total \n",
    "    return summed_data\n",
    "\n",
    "# Print the mean, standard deviation, maximum, and minimum of these \"records\"\n",
    "def describe_data(data):\n",
    "    # Values rounded to 2 sig figs \n",
    "    print 'Mean:', round(np.mean(data),2)\n",
    "    print 'Standard deviation:', round(np.std(data),2)\n",
    "    print 'Minimum:', round(np.min(data),2)\n",
    "    print 'Maximum:', round(np.max(data),2)\n",
    "    plt.hist(data) "
   ]
  },
  {
   "cell_type": "markdown",
   "metadata": {},
   "source": [
    "#### Average number of minutes completed in the first week:"
   ]
  },
  {
   "cell_type": "code",
   "execution_count": 18,
   "metadata": {
    "scrolled": true
   },
   "outputs": [
    {
     "name": "stdout",
     "output_type": "stream",
     "text": [
      "Mean: 306.71\n",
      "Standard deviation: 413.0\n",
      "Minimum: 0.0\n",
      "Maximum: 3564.73\n"
     ]
    },
    {
     "data": {
      "image/png": "[encoded data removed]",
      "text/plain": [
       "<matplotlib.figure.Figure at 0x10cc67e90>"
      ]
     },
     "metadata": {},
     "output_type": "display_data"
    }
   ],
   "source": [
    "# Group engagement records by account_key \n",
    "engagement_by_account = group_data(paid_engagement_in_first_week, 'account_key')\n",
    "# Sum of total minutes by account \n",
    "total_minutes_by_account = sum_grouped_items(engagement_by_account, 'total_minutes_visited')\n",
    "# Print out summary statistics \n",
    "total_minutes = total_minutes_by_account.values()\n",
    "describe_data(total_minutes)"
   ]
  },
  {
   "cell_type": "markdown",
   "metadata": {},
   "source": [
    "The average number of minutes completed in the first week is around 307 minutes. "
   ]
  },
  {
   "cell_type": "markdown",
   "metadata": {},
   "source": [
    "#### Average number of lessons completed in the first week:\n"
   ]
  },
  {
   "cell_type": "code",
   "execution_count": 19,
   "metadata": {},
   "outputs": [
    {
     "name": "stdout",
     "output_type": "stream",
     "text": [
      "Mean: 1.64\n",
      "Standard deviation: 3.0\n",
      "Minimum: 0.0\n",
      "Maximum: 36.0\n"
     ]
    },
    {
     "data": {
      "image/png": "[encoded data removed]",
      "text/plain": [
       "<matplotlib.figure.Figure at 0x11bc51f90>"
      ]
     },
     "metadata": {},
     "output_type": "display_data"
    }
   ],
   "source": [
    "# Sum of total lessons by account \n",
    "lessons_completed_by_account = sum_grouped_items(engagement_by_account, 'lessons_completed')\n",
    "describe_data(lessons_completed_by_account.values())"
   ]
  },
  {
   "cell_type": "markdown",
   "metadata": {},
   "source": [
    "The average number of lessons completed in the first week is 1.64 lessons. Note this rounds down to 1.0 lessons on Udacity, since lessons can only be integer values. The large standard deviation is because students from different backgrounds are taking the course at different rates. "
   ]
  },
  {
   "cell_type": "markdown",
   "metadata": {},
   "source": [
    "#### Number of days student visited the classroom in a week"
   ]
  },
  {
   "cell_type": "markdown",
   "metadata": {},
   "source": [
    "Let's find the number of days the student visited the classroom in a week, regardless of how many specific courses they visited that day. \n",
    "\n",
    "* change code in sum_grouped_items function \n",
    "* create a new field in the data calld \"has_visited\" which can be either a 1 or 0 where 1 = visited, 0 = not visited \n",
    "\n",
    "From method 2, we can add a new \"has_visited\" field where we can call the old sum_grouped_item function and take the sum over the \"has_visited\" values. We added \"has_visited\" field under the paid_enrollments table."
   ]
  },
  {
   "cell_type": "code",
   "execution_count": 20,
   "metadata": {
    "scrolled": true
   },
   "outputs": [
    {
     "name": "stdout",
     "output_type": "stream",
     "text": [
      "Mean: 2.87\n",
      "Standard deviation: 2.26\n",
      "Minimum: 0.0\n",
      "Maximum: 7.0\n"
     ]
    },
    {
     "data": {
      "image/png": "[encoded data removed]",
      "text/plain": [
       "<matplotlib.figure.Figure at 0x11bd30bd0>"
      ]
     },
     "metadata": {},
     "output_type": "display_data"
    }
   ],
   "source": [
    "days_visited_by_account = sum_grouped_items(engagement_by_account, 'has_visited')\n",
    "describe_data(days_visited_by_account.values())"
   ]
  },
  {
   "cell_type": "markdown",
   "metadata": {},
   "source": [
    "The average total number of days a student visits the classroom is around 3 days a week. "
   ]
  },
  {
   "cell_type": "markdown",
   "metadata": {},
   "source": [
    "#### Finding the project completion rates \n",
    "We split the daily engagement table into students who pass the first project and students who do not. Udacity's first project was a \"Subway Completion\" project. In the project submission table, we check that the lesson_key matches the first project, and from the assigned_rating column, we check if student passed the project."
   ]
  },
  {
   "cell_type": "code",
   "execution_count": 21,
   "metadata": {},
   "outputs": [
    {
     "data": {
      "text/plain": [
       "{u'account_key': u'256',\n",
       " u'assigned_rating': u'UNGRADED',\n",
       " u'completion_date': datetime.datetime(2015, 1, 16, 0, 0),\n",
       " u'creation_date': datetime.datetime(2015, 1, 14, 0, 0),\n",
       " u'lesson_key': u'3176718735',\n",
       " u'processing_state': u'EVALUATED'}"
      ]
     },
     "execution_count": 21,
     "metadata": {},
     "output_type": "execute_result"
    }
   ],
   "source": [
    "# Subway_project has two key values\n",
    "subway_project_lesson_keys = ['746169184', '3176718735']\n",
    "\n",
    "# First column of project completion table\n",
    "paid_submissions[0]"
   ]
  },
  {
   "cell_type": "code",
   "execution_count": 22,
   "metadata": {},
   "outputs": [
    {
     "name": "stdout",
     "output_type": "stream",
     "text": [
      "Number of students who passed the first subject: 647\n"
     ]
    }
   ],
   "source": [
    "# Find students who pass the first project \n",
    "\n",
    "pass_subway_project = set()\n",
    "\n",
    "for submission in paid_submissions:\n",
    "    project = submission['lesson_key']\n",
    "    rating = submission['assigned_rating']\n",
    "    if project in subway_project_lesson_keys and (rating == 'PASSED' or rating == 'DISTINCTION'):\n",
    "        pass_subway_project.add(submission['account_key'])\n",
    "\n",
    "print \"Number of students who passed the first subject:\", len(pass_subway_project)\n"
   ]
  },
  {
   "cell_type": "code",
   "execution_count": 23,
   "metadata": {},
   "outputs": [
    {
     "name": "stdout",
     "output_type": "stream",
     "text": [
      "Students who passed: 4527\n",
      "Students who did not pass: 2392\n"
     ]
    }
   ],
   "source": [
    "# Split data into passing vs non-passing projects \n",
    "passing_engagement = []\n",
    "non_passing_engagement = []\n",
    "\n",
    "for engagement_record in paid_engagement_in_first_week:\n",
    "    # Check if student is one that passed the subway project \n",
    "    if engagement_record['account_key'] in pass_subway_project:\n",
    "        passing_engagement.append(engagement_record)\n",
    "    else:\n",
    "        non_passing_engagement.append(engagement_record)\n",
    "        \n",
    "print \"Students who passed:\", len(passing_engagement)\n",
    "print \"Students who did not pass:\", len(non_passing_engagement)"
   ]
  },
  {
   "cell_type": "markdown",
   "metadata": {},
   "source": [
    "# Conclusions: "
   ]
  },
  {
   "cell_type": "markdown",
   "metadata": {},
   "source": [
    "Correlations between project completion rates and the following factors:\n",
    "* 1) Minutes engaged\n",
    "* 2) Lessons completed\n",
    "* 3) Days visiting the classroom\n",
    "\n",
    "\n",
    "#### 1) Minutes Engaged v.s. Project Completion \n",
    "\n",
    "* Passing students spend more time in the classroom (395 minutesweek) compared to non-passing students (143 minutes/week).\n",
    "* The standard deviation for passing students is higher. Since the mean is higher, it is expected for the standard deviation to be higher as well. The more time students are spending, the easier it is to have more variations in the times.\n",
    "* The maximum number of time spent in the classroom is higher for passing students."
   ]
  },
  {
   "cell_type": "code",
   "execution_count": 24,
   "metadata": {
    "scrolled": true
   },
   "outputs": [
    {
     "name": "stdout",
     "output_type": "stream",
     "text": [
      "Mean: 143.33\n",
      "Standard deviation: 269.54\n",
      "Minimum: 0.0\n",
      "Maximum: 1768.52\n"
     ]
    },
    {
     "data": {
      "text/plain": [
       "<matplotlib.text.Text at 0x11baf7c90>"
      ]
     },
     "execution_count": 24,
     "metadata": {},
     "output_type": "execute_result"
    },
    {
     "data": {
      "image/png": "[encoded data removed]",
      "text/plain": [
       "<matplotlib.figure.Figure at 0x11bde2fd0>"
      ]
     },
     "metadata": {},
     "output_type": "display_data"
    }
   ],
   "source": [
    "# Minutes engaged for non-passing students \n",
    "non_passing_engagement_by_account = group_data(non_passing_engagement, 'account_key')\n",
    "non_passing_minutes = sum_grouped_items(non_passing_engagement_by_account, 'total_minutes_visited')\n",
    "describe_data(non_passing_minutes.values())\n",
    "plt.ylabel('Frequency')\n",
    "plt.xlabel('Minutes engaged per week')\n",
    "plt.title('Minutes engaged for non-passing students')"
   ]
  },
  {
   "cell_type": "code",
   "execution_count": 25,
   "metadata": {},
   "outputs": [
    {
     "name": "stdout",
     "output_type": "stream",
     "text": [
      "Mean: 394.59\n",
      "Standard deviation: 448.5\n",
      "Minimum: 0.0\n",
      "Maximum: 3564.73\n"
     ]
    },
    {
     "data": {
      "text/plain": [
       "<matplotlib.text.Text at 0x11bcc7e50>"
      ]
     },
     "execution_count": 25,
     "metadata": {},
     "output_type": "execute_result"
    },
    {
     "data": {
      "image/png": "[encoded data removed]",
      "text/plain": [
       "<matplotlib.figure.Figure at 0x11bb14f50>"
      ]
     },
     "metadata": {},
     "output_type": "display_data"
    }
   ],
   "source": [
    "# Minutes engaged for passing students\n",
    "passing_engagement_by_account = group_data(passing_engagement, 'account_key')\n",
    "passing_minutes = sum_grouped_items(passing_engagement_by_account, 'total_minutes_visited')\n",
    "describe_data(passing_minutes.values())\n",
    "plt.ylabel('Frequency')\n",
    "plt.xlabel('Minutes engaged per week')\n",
    "plt.title('Minutes engaged for passing students')"
   ]
  },
  {
   "cell_type": "markdown",
   "metadata": {},
   "source": [
    "#### 2) Lessons Completed v.s. Project Completion \n",
    "\n",
    "* Passing students completed 2.05 lessons/week compared to 0.86 lessons/week for non passing students.\n",
    "* Maximum number of lessons completed is higher for students who pass "
   ]
  },
  {
   "cell_type": "code",
   "execution_count": 26,
   "metadata": {},
   "outputs": [
    {
     "name": "stdout",
     "output_type": "stream",
     "text": [
      "Mean: 0.86\n",
      "Standard deviation: 2.55\n",
      "Minimum: 0.0\n",
      "Maximum: 27.0\n"
     ]
    },
    {
     "data": {
      "text/plain": [
       "<matplotlib.text.Text at 0x11c013b50>"
      ]
     },
     "execution_count": 26,
     "metadata": {},
     "output_type": "execute_result"
    },
    {
     "data": {
      "image/png": "[encoded data removed]",
      "text/plain": [
       "<matplotlib.figure.Figure at 0x11bde2e50>"
      ]
     },
     "metadata": {},
     "output_type": "display_data"
    }
   ],
   "source": [
    "# Lessons completed for non-passing students \n",
    "non_passing_lessons = sum_grouped_items(non_passing_engagement_by_account, 'lessons_completed')\n",
    "describe_data(non_passing_lessons.values())\n",
    "plt.ylabel('Frequency')\n",
    "plt.xlabel('Lessons completed per week')\n",
    "plt.title('Lessons completed for non-passing students ')"
   ]
  },
  {
   "cell_type": "code",
   "execution_count": 27,
   "metadata": {},
   "outputs": [
    {
     "name": "stdout",
     "output_type": "stream",
     "text": [
      "Mean: 2.05\n",
      "Standard deviation: 3.14\n",
      "Minimum: 0.0\n",
      "Maximum: 36.0\n"
     ]
    },
    {
     "data": {
      "text/plain": [
       "<matplotlib.text.Text at 0x11c0d3f50>"
      ]
     },
     "execution_count": 27,
     "metadata": {},
     "output_type": "execute_result"
    },
    {
     "data": {
      "image/png": "[encoded data removed]",
      "text/plain": [
       "<matplotlib.figure.Figure at 0x11baef550>"
      ]
     },
     "metadata": {},
     "output_type": "display_data"
    }
   ],
   "source": [
    "# Lessons completed for passing students \n",
    "passing_lessons = sum_grouped_items(passing_engagement_by_account, 'lessons_completed')\n",
    "describe_data(passing_lessons.values())\n",
    "plt.ylabel('Frequency')\n",
    "plt.xlabel('Lessons completed per week')\n",
    "plt.title('Lessons completed for passing students ')"
   ]
  },
  {
   "cell_type": "markdown",
   "metadata": {},
   "source": [
    "#### 3) Days Visiting the Classroom v.s. Project Completion \n",
    "\n",
    "* Passing students visit on average 3.38 days/week compared to non passing students who visit 1.91 days/week\n",
    "* For both passing and non-passing students, the minimum (0 days) and maximum (7 days) were the same \n",
    "\n",
    "For nicer graphs, we can change the bins from 10 bins to 8 bins."
   ]
  },
  {
   "cell_type": "code",
   "execution_count": 28,
   "metadata": {
    "scrolled": true
   },
   "outputs": [
    {
     "name": "stdout",
     "output_type": "stream",
     "text": [
      "Mean: 3.38\n",
      "Standard deviation: 2.26\n",
      "Minimum: 0.0\n",
      "Maximum: 7.0\n"
     ]
    },
    {
     "data": {
      "text/plain": [
       "<matplotlib.text.Text at 0x11c325490>"
      ]
     },
     "execution_count": 28,
     "metadata": {},
     "output_type": "execute_result"
    },
    {
     "data": {
      "image/png": "[encoded data removed]",
      "text/plain": [
       "<matplotlib.figure.Figure at 0x11c264190>"
      ]
     },
     "metadata": {},
     "output_type": "display_data"
    }
   ],
   "source": [
    "# Number of days visiting the classroom per week for non-passing students \n",
    "passing_visits = sum_grouped_items(passing_engagement_by_account, 'has_visited')\n",
    "passing_visits = sum_grouped_items(passing_engagement_by_account, 'has_visited')\n",
    "describe_data(passing_visits.values())\n",
    "#plt.hist(passing_visits.values(), bins = 8)\n",
    "plt.xlabel('Number of days')\n",
    "plt.ylabel('Frequency')\n",
    "plt.title('Distribution of classroom visits in the first week'+ \n",
    "         'for students who pass the subway project')"
   ]
  },
  {
   "cell_type": "code",
   "execution_count": 29,
   "metadata": {},
   "outputs": [
    {
     "name": "stdout",
     "output_type": "stream",
     "text": [
      "Mean: 1.91\n",
      "Standard deviation: 1.91\n",
      "Minimum: 0.0\n",
      "Maximum: 7.0\n"
     ]
    },
    {
     "data": {
      "text/plain": [
       "<matplotlib.text.Text at 0x11c4c0f10>"
      ]
     },
     "execution_count": 29,
     "metadata": {},
     "output_type": "execute_result"
    },
    {
     "data": {
      "image/png": "[encoded data removed]",
      "text/plain": [
       "<matplotlib.figure.Figure at 0x11c3f2550>"
      ]
     },
     "metadata": {},
     "output_type": "display_data"
    }
   ],
   "source": [
    "# Number of days visiting the classroom per week for passing students \n",
    "non_passing_visits = sum_grouped_items(non_passing_engagement_by_account, 'has_visited')\n",
    "describe_data(non_passing_visits.values())\n",
    "#plt.hist(non_passing_visits.values(), bins=8)\n",
    "plt.xlabel('Number of days')\n",
    "plt.ylabel('Frequency')\n",
    "plt.title('Distribution of classroom visits in the first week'+ \n",
    "         'for students who do notpass the subway project')"
   ]
  },
  {
   "cell_type": "markdown",
   "metadata": {},
   "source": [
    "#### The strongest trend is the correlation between students who passed the first project and the number of minutes spent in the classroom. \n",
    "\n",
    "As correlation does not imply causation. There could be lurking variables that were not considered. Example of possible factors include the level of interest. People who are not interested in data science will be less interested to pass the course. Udacity should recommend other courses to them. Another possible factor would be a lack of background knowledge. People who lack a programming background can fall behind and be not pass the course. Udacity can recommend an intro programming course as a prereq. In order to truly find out if there is a causation between two variables, we will need to run an A/B test. To make predictions with the data, machine learning and statistical inferences need to be added. For instance, given this data, can we predict which students are more likely to pass their first project? \n",
    "\n",
    "#### Future Questions \n",
    "* How do we improve user retention?\n",
    "* How do we improve user engagement? \n",
    "* How do we increase the number of students passing their projects?\n",
    "\n"
   ]
  }
 ],
 "metadata": {
  "kernelspec": {
   "display_name": "Python [cats]",
   "language": "python",
   "name": "Python [cats]"
  },
  "language_info": {
   "codemirror_mode": {
    "name": "ipython",
    "version": 2
   },
   "file_extension": ".py",
   "mimetype": "text/x-python",
   "name": "python",
   "nbconvert_exporter": "python",
   "pygments_lexer": "ipython2",
   "version": "2.7.14"
  }
 },
 "nbformat": 4,
 "nbformat_minor": 1
}
