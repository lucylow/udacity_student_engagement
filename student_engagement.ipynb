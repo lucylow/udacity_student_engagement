{
 "cells": [
  {
   "cell_type": "markdown",
   "metadata": {},
   "source": [
    "# Data Analysis of Udacity Student Engagements"
   ]
  },
  {
   "cell_type": "markdown",
   "metadata": {},
   "source": [
    "Given data about student enrollments on Udacity, an analysis was done on features between students who pass the course and students who do not pass the course."
   ]
  },
  {
   "cell_type": "code",
   "execution_count": 1,
   "metadata": {
    "collapsed": true
   },
   "outputs": [],
   "source": [
    "#import libraries \n",
    "import unicodecsv\n",
    "from datetime import datetime as dt\n",
    "from collections import defaultdict\n",
    "import numpy as np\n",
    "import matplotlib.pyplot as plt\n",
    "%matplotlib inline"
   ]
  },
  {
   "cell_type": "markdown",
   "metadata": {},
   "source": [
    "#### Load Data from CSVs"
   ]
  },
  {
   "cell_type": "markdown",
   "metadata": {},
   "source": [
    "We will be working with three CSV files: \n",
    "* enrollments.csv\n",
    "* daily_engagement.csv\n",
    "* project_submissions.csv\n",
    "\n",
    "We can write a function to load data from CSV files. "
   ]
  },
  {
   "cell_type": "code",
   "execution_count": 52,
   "metadata": {
    "collapsed": true
   },
   "outputs": [],
   "source": [
    "\n",
    "# read_csv takes a string of a csv file name and outputs a list    \n",
    "def read_csv(filename):\n",
    "    with open(filename, 'rb') as f: #'rb' = format for reading\n",
    "        reader = unicodecsv.DictReader(f)\n",
    "        return list(reader)\n",
    "\n",
    "# Read in our data and store in variables \n",
    "enrollments = read_csv('enrollments.csv')\n",
    "daily_engagement = read_csv('daily_engagement.csv')\n",
    "project_submissions = read_csv('project_submissions.csv')    "
   ]
  },
  {
   "cell_type": "markdown",
   "metadata": {},
   "source": [
    "Let's look at what we are working with. Print out the first row of each table."
   ]
  },
  {
   "cell_type": "code",
   "execution_count": 53,
   "metadata": {},
   "outputs": [
    {
     "name": "stdout",
     "output_type": "stream",
     "text": [
      "{u'status': u'canceled', u'is_udacity': u'True', u'is_canceled': u'True', u'join_date': u'2014-11-10', u'account_key': u'448', u'cancel_date': u'2015-01-14', u'days_to_cancel': u'65'}\n",
      "{u'lessons_completed': u'0.0', u'num_courses_visited': u'1.0', u'total_minutes_visited': u'11.6793745', u'projects_completed': u'0.0', u'acct': u'0', u'utc_date': u'2015-01-09'}\n",
      "{u'lesson_key': u'3176718735', u'processing_state': u'EVALUATED', u'account_key': u'256', u'assigned_rating': u'UNGRADED', u'completion_date': u'2015-01-16', u'creation_date': u'2015-01-14'}\n"
     ]
    }
   ],
   "source": [
    "print enrollments[0]\n",
    "print daily_engagement[0]\n",
    "print project_submissions[0]"
   ]
  },
  {
   "cell_type": "markdown",
   "metadata": {},
   "source": [
    "#### Fixing Data Types\n",
    "\n",
    "From the first row of each table, we see that the CSV file has converted all our data into \"string\" format. In order for us to manipulate the data, we will need to clean/convert the data types. \n",
    "\n",
    "* The \"cancel_date\" data can be converted to a Python datetime object from a string by importing the datetime library. If the string is empty, then the student has not cancelled yet. \n",
    "* The \"days_to_cancel\" data can be an empty string. If the string is empty, it means the student has not cancelled yet.\n",
    "* The 'account_key' data is kept as a string of numbers since they are unique and we will not be working mathematically with them. "
   ]
  },
  {
   "cell_type": "code",
   "execution_count": 54,
   "metadata": {},
   "outputs": [
    {
     "data": {
      "text/plain": [
       "{u'account_key': u'448',\n",
       " u'cancel_date': datetime.datetime(2015, 1, 14, 0, 0),\n",
       " u'days_to_cancel': 65,\n",
       " u'is_canceled': True,\n",
       " u'is_udacity': True,\n",
       " u'join_date': datetime.datetime(2014, 11, 10, 0, 0),\n",
       " u'status': u'canceled'}"
      ]
     },
     "execution_count": 54,
     "metadata": {},
     "output_type": "execute_result"
    }
   ],
   "source": [
    "\n",
    "# Takes a date as a string, and returns a Python datetime object. \n",
    "# If there is no date given, returns None\n",
    "def parse_date(date):\n",
    "    if date == '': \n",
    "        return None\n",
    "    else:\n",
    "        return dt.strptime(date, '%Y-%m-%d')\n",
    "    \n",
    "# check if integer or not\n",
    "# Takes a string which is either an empty string or represents an integer,\n",
    "# and returns an int or None.\n",
    "def parse_maybe_int(i):\n",
    "    if i == '': \n",
    "        return None \n",
    "    else:\n",
    "        return int(i)\n",
    "\n",
    "# Clean up the data types in the enrollments table\n",
    "for enrollment in enrollments:\n",
    "    enrollment['cancel_date'] = parse_date(enrollment['cancel_date'])\n",
    "    enrollment['days_to_cancel'] = parse_maybe_int(enrollment['days_to_cancel'])\n",
    "    enrollment['is_canceled'] = enrollment['is_canceled'] == 'True'\n",
    "    enrollment['is_udacity'] = enrollment['is_udacity'] == 'True'\n",
    "    enrollment['join_date'] = parse_date(enrollment['join_date'])\n",
    "    \n",
    "enrollments[0]"
   ]
  },
  {
   "cell_type": "code",
   "execution_count": 55,
   "metadata": {},
   "outputs": [
    {
     "data": {
      "text/plain": [
       "{u'acct': u'0',\n",
       " u'lessons_completed': 0,\n",
       " u'num_courses_visited': 1,\n",
       " u'projects_completed': 0,\n",
       " u'total_minutes_visited': 11.6793745,\n",
       " u'utc_date': datetime.datetime(2015, 1, 9, 0, 0)}"
      ]
     },
     "execution_count": 55,
     "metadata": {},
     "output_type": "execute_result"
    }
   ],
   "source": [
    "# Clean up the data types in the engagement table\n",
    "\n",
    "# float to int --> can not complete 0.5 of a lesson or course \n",
    "\n",
    "for engagement_record in daily_engagement:\n",
    "    engagement_record['lessons_completed'] = int(float(engagement_record['lessons_completed']))\n",
    "    engagement_record['num_courses_visited'] = int(float(engagement_record['num_courses_visited']))\n",
    "    engagement_record['projects_completed'] = int(float(engagement_record['projects_completed']))\n",
    "    engagement_record['total_minutes_visited'] = float(engagement_record['total_minutes_visited'])\n",
    "    engagement_record['utc_date'] = parse_date(engagement_record['utc_date'])\n",
    "    \n",
    "daily_engagement[0]"
   ]
  },
  {
   "cell_type": "code",
   "execution_count": 56,
   "metadata": {},
   "outputs": [
    {
     "data": {
      "text/plain": [
       "{u'account_key': u'256',\n",
       " u'assigned_rating': u'UNGRADED',\n",
       " u'completion_date': datetime.datetime(2015, 1, 16, 0, 0),\n",
       " u'creation_date': datetime.datetime(2015, 1, 14, 0, 0),\n",
       " u'lesson_key': u'3176718735',\n",
       " u'processing_state': u'EVALUATED'}"
      ]
     },
     "execution_count": 56,
     "metadata": {},
     "output_type": "execute_result"
    }
   ],
   "source": [
    "# Clean up the data types in the submissions table\n",
    "for submission in project_submissions:\n",
    "    submission['completion_date'] = parse_date(submission['completion_date'])\n",
    "    submission['creation_date'] = parse_date(submission['creation_date'])\n",
    "\n",
    "project_submissions[0]"
   ]
  },
  {
   "cell_type": "markdown",
   "metadata": {},
   "source": [
    "#### Investigating the Data"
   ]
  },
  {
   "cell_type": "markdown",
   "metadata": {},
   "source": [
    "In two tables, we have columns \"account_key\" but in the daily_engagement table we have a column \"acct\". Need to change the column name from \"acct\" to \"account_key\". \n"
   ]
  },
  {
   "cell_type": "code",
   "execution_count": 57,
   "metadata": {
    "collapsed": true
   },
   "outputs": [],
   "source": [
    "# Change Header: We can either create a new list, or modify the old list. \n",
    "# Let's modify the list.\n",
    "\n",
    "for engagement_record in daily_engagement:\n",
    "    engagement_record['account_key'] = engagement_record['acct']\n",
    "    del[engagement_record['acct']]"
   ]
  },
  {
   "cell_type": "markdown",
   "metadata": {},
   "source": [
    "Check that the renamed header is 'account_key' instead of 'acct': "
   ]
  },
  {
   "cell_type": "code",
   "execution_count": 58,
   "metadata": {},
   "outputs": [
    {
     "data": {
      "text/plain": [
       "u'0'"
      ]
     },
     "execution_count": 58,
     "metadata": {},
     "output_type": "execute_result"
    }
   ],
   "source": [
    "daily_engagement[0]['account_key']"
   ]
  },
  {
   "cell_type": "markdown",
   "metadata": {},
   "source": [
    "#### Unique students\n",
    "\n",
    "We can find the total number of enrollments in each csv file by counting the number of rows."
   ]
  },
  {
   "cell_type": "code",
   "execution_count": 59,
   "metadata": {
    "collapsed": true
   },
   "outputs": [],
   "source": [
    "def get_unique_students(data):\n",
    "    unique_students = set()\n",
    "    for data_point in data:\n",
    "        unique_students.add(data_point['account_key'])\n",
    "    return unique_students"
   ]
  },
  {
   "cell_type": "markdown",
   "metadata": {},
   "source": [
    "We can find the total number of enrollments in each csv file by counting the number of rows."
   ]
  },
  {
   "cell_type": "code",
   "execution_count": 60,
   "metadata": {},
   "outputs": [
    {
     "data": {
      "text/plain": [
       "1640"
      ]
     },
     "execution_count": 60,
     "metadata": {},
     "output_type": "execute_result"
    }
   ],
   "source": [
    "len(enrollments)"
   ]
  },
  {
   "cell_type": "markdown",
   "metadata": {},
   "source": [
    "Does this mean 1640 students are enrolled in the course? We can find the total number of unique students in each table by counting the number of values in a set. "
   ]
  },
  {
   "cell_type": "code",
   "execution_count": 61,
   "metadata": {},
   "outputs": [
    {
     "data": {
      "text/plain": [
       "1302"
      ]
     },
     "execution_count": 61,
     "metadata": {},
     "output_type": "execute_result"
    }
   ],
   "source": [
    "unique_enrolled_students = set()\n",
    "\n",
    "for enrollment in enrollments:\n",
    "    unique_enrolled_students.add(enrollment['account_key'])\n",
    "\n",
    "len(unique_enrolled_students)"
   ]
  },
  {
   "cell_type": "markdown",
   "metadata": {},
   "source": [
    "There are 1302 unique enrollments and 1640 enrollments in total. A possible explanation is that students are enrolling, cancelling, and re-enrolling in courses. Let's see how engaged these 1302 unique students are? "
   ]
  },
  {
   "cell_type": "code",
   "execution_count": 62,
   "metadata": {
    "scrolled": true
   },
   "outputs": [
    {
     "data": {
      "text/plain": [
       "136240"
      ]
     },
     "execution_count": 62,
     "metadata": {},
     "output_type": "execute_result"
    }
   ],
   "source": [
    "len(daily_engagement)"
   ]
  },
  {
   "cell_type": "code",
   "execution_count": 63,
   "metadata": {},
   "outputs": [
    {
     "data": {
      "text/plain": [
       "1237"
      ]
     },
     "execution_count": 63,
     "metadata": {},
     "output_type": "execute_result"
    }
   ],
   "source": [
    "unique_engagement_students = set()\n",
    "\n",
    "for engagement_record in daily_engagement:\n",
    "    unique_engagement_students.add(engagement_record['account_key'])\n",
    "len(unique_engagement_students)"
   ]
  },
  {
   "cell_type": "markdown",
   "metadata": {},
   "source": [
    "We see that the 136,240 daily engagements came from only unique 1,237 students."
   ]
  },
  {
   "cell_type": "code",
   "execution_count": 64,
   "metadata": {},
   "outputs": [
    {
     "data": {
      "text/plain": [
       "3642"
      ]
     },
     "execution_count": 64,
     "metadata": {},
     "output_type": "execute_result"
    }
   ],
   "source": [
    "len(project_submissions)"
   ]
  },
  {
   "cell_type": "code",
   "execution_count": 65,
   "metadata": {},
   "outputs": [
    {
     "data": {
      "text/plain": [
       "743"
      ]
     },
     "execution_count": 65,
     "metadata": {},
     "output_type": "execute_result"
    }
   ],
   "source": [
    "unique_project_submitters = set()\n",
    "for submission in project_submissions:\n",
    "    unique_project_submitters.add(submission['account_key'])\n",
    "len(unique_project_submitters)"
   ]
  },
  {
   "cell_type": "markdown",
   "metadata": {},
   "source": [
    "We see that the 3,642 project submissions come from 743 unique students. This averages to almost 5 projects per student. "
   ]
  },
  {
   "cell_type": "markdown",
   "metadata": {},
   "source": [
    "#### Students with 0 daily engagement \n",
    "\n",
    "Why are there more unique students in enrollment table compared to engagement table? It is strange that a student will enroll but not have a single engagement with the platform. Let's print out a row for this special case."
   ]
  },
  {
   "cell_type": "code",
   "execution_count": 66,
   "metadata": {
    "scrolled": false
   },
   "outputs": [
    {
     "name": "stdout",
     "output_type": "stream",
     "text": [
      "{u'status': u'canceled', u'is_udacity': False, u'is_canceled': True, u'join_date': datetime.datetime(2014, 11, 12, 0, 0), u'account_key': u'1219', u'cancel_date': datetime.datetime(2014, 11, 12, 0, 0), u'days_to_cancel': 0}\n"
     ]
    }
   ],
   "source": [
    "for enrollment in enrollments:\n",
    "    # find the account key for each enrollment \n",
    "    student = enrollment['account_key']\n",
    "    # check if that account key is in set of unique students \n",
    "    if student not in unique_engagement_students:\n",
    "        print enrollment \n",
    "        break "
   ]
  },
  {
   "cell_type": "markdown",
   "metadata": {},
   "source": [
    "Looking at this data point, we notice that the JOIN date and CANCEL date are both (2014, 11, 12, 0, 0). Perhaps a user has to be active for one full day before daily engagement is registered?"
   ]
  },
  {
   "cell_type": "markdown",
   "metadata": {},
   "source": [
    "#### Edge cases \n",
    "Let's look for more problems or edge cases in the enrollment records."
   ]
  },
  {
   "cell_type": "code",
   "execution_count": 67,
   "metadata": {},
   "outputs": [
    {
     "name": "stdout",
     "output_type": "stream",
     "text": [
      "{u'status': u'canceled', u'is_udacity': True, u'is_canceled': True, u'join_date': datetime.datetime(2015, 1, 10, 0, 0), u'account_key': u'1304', u'cancel_date': datetime.datetime(2015, 3, 10, 0, 0), u'days_to_cancel': 59}\n",
      "{u'status': u'canceled', u'is_udacity': True, u'is_canceled': True, u'join_date': datetime.datetime(2015, 3, 10, 0, 0), u'account_key': u'1304', u'cancel_date': datetime.datetime(2015, 6, 17, 0, 0), u'days_to_cancel': 99}\n",
      "{u'status': u'current', u'is_udacity': True, u'is_canceled': False, u'join_date': datetime.datetime(2015, 2, 25, 0, 0), u'account_key': u'1101', u'cancel_date': None, u'days_to_cancel': None}\n"
     ]
    },
    {
     "data": {
      "text/plain": [
       "3"
      ]
     },
     "execution_count": 67,
     "metadata": {},
     "output_type": "execute_result"
    }
   ],
   "source": [
    "# store number of problem students \n",
    "\n",
    "num_problem_students = 0 \n",
    "\n",
    "for enrollment in enrollments:\n",
    "    student = enrollment['account_key']\n",
    "    if student not in unique_engagement_students and enrollment['join_date'] != enrollment['cancel_date']:\n",
    "        num_problem_students += 1\n",
    "        print enrollment\n",
    "        \n",
    "num_problem_students "
   ]
  },
  {
   "cell_type": "markdown",
   "metadata": {},
   "source": [
    "There are 3 students where the student is missing from the engagement table but were enrolled for at least one day. \n",
    "\n",
    "Looking at the records, it is found that these are all test accounts since the column \"is_udacity\" is set to True. Since they are test accounts, they are not guaranteed to be present in the daily engagement table.\n",
    "\n",
    "Let's check to see if there are more test accounts:"
   ]
  },
  {
   "cell_type": "code",
   "execution_count": 68,
   "metadata": {},
   "outputs": [
    {
     "data": {
      "text/plain": [
       "6"
      ]
     },
     "execution_count": 68,
     "metadata": {},
     "output_type": "execute_result"
    }
   ],
   "source": [
    "#find test accounts\n",
    "# create a set of account keys for all test accounds \n",
    "udacity_test_accounts = set()\n",
    "\n",
    "for enrollment in enrollments:\n",
    "    if enrollment['is_udacity']:\n",
    "        udacity_test_accounts.add(enrollment['account_key'])\n",
    "        \n",
    "len(udacity_test_accounts)"
   ]
  },
  {
   "cell_type": "code",
   "execution_count": 69,
   "metadata": {
    "collapsed": true
   },
   "outputs": [],
   "source": [
    "# Given account_key, removes any records corresponding to Udacity test accounts\n",
    "def remove_udacity_accounts(data):\n",
    "    non_udacity_data = []\n",
    "    for data_point in data:\n",
    "        if data_point['account_key'] not in udacity_test_accounts:\n",
    "            non_udacity_data.append(data_point)\n",
    "    return non_udacity_data"
   ]
  },
  {
   "cell_type": "code",
   "execution_count": 70,
   "metadata": {},
   "outputs": [
    {
     "name": "stdout",
     "output_type": "stream",
     "text": [
      "1622\n",
      "135656\n",
      "3634\n"
     ]
    }
   ],
   "source": [
    "# Remove Udacity test accounts from all three tables\n",
    "non_udacity_enrollments = remove_udacity_accounts(enrollments)\n",
    "non_udacity_engagement = remove_udacity_accounts(daily_engagement)\n",
    "non_udacity_submissions = remove_udacity_accounts(project_submissions)\n",
    "\n",
    "print len(non_udacity_enrollments)\n",
    "print len(non_udacity_engagement)\n",
    "print len(non_udacity_submissions)"
   ]
  },
  {
   "cell_type": "markdown",
   "metadata": {},
   "source": [
    "#### Refining the Question"
   ]
  },
  {
   "cell_type": "markdown",
   "metadata": {},
   "source": [
    "How do numbers in the daily engagement table differ for students who pass the first project compared to students who don't pass the first project?\n",
    "\n",
    "Exploring this further, we will need to isolate engagement data for the time period BEFORE the student's first project. This period of time will be different for each student. Example: One student may take two weeks to do their project, whereas another student may take two months. How would we compare data from different lengths of time? We also need to make the assumption that the engagements are only towards that one project.\n",
    "\n",
    "Considering these factors, we will only look at engagement for a fixed amount of time (one week), and exclude students who cancel within a week. Note that the free trial for Udacity courses is seven days. This means that we will exclude those individuals from our analysis. We start by creating a dictionary of students who either haven't canceled yet, or have stayed enrolled more than one week. We start by creating a dictionary of students who either haven't canceled yet, or have stayed enrolled more than one week."
   ]
  },
  {
   "cell_type": "code",
   "execution_count": 71,
   "metadata": {},
   "outputs": [
    {
     "data": {
      "text/plain": [
       "995"
      ]
     },
     "execution_count": 71,
     "metadata": {},
     "output_type": "execute_result"
    }
   ],
   "source": [
    "## Create a dictionary named paid_students containing all students who either\n",
    "## haven't canceled yet or who remained enrolled for more than 7 days. The keys\n",
    "## should be account keys, and the values should be the date the student enrolled.\n",
    "\n",
    "paid_students = {}\n",
    "\n",
    "for enrollment in non_udacity_enrollments:\n",
    "    if not enrollment['is_canceled'] or enrollment['days_to_cancel'] > 7:\n",
    "        # keys are account keys\n",
    "        # values are enrollment dates\n",
    "        account_key = enrollment['account_key']\n",
    "        enrollment_date = enrollment['join_date']\n",
    "        \n",
    "        # same student can enroll multiple times \n",
    "        # check for a student's most recent enrollment date \n",
    "        # only one enrollment date for each student \n",
    "        if account_key not in paid_students or \\\n",
    "            enrollment_date > paid_students[account_key]:\n",
    "            paid_students[account_key] = enrollment_date\n",
    "            \n",
    "\n",
    "len(paid_students)"
   ]
  },
  {
   "cell_type": "markdown",
   "metadata": {},
   "source": [
    "995 students have a paid membership with Udacity. The account keys and enrollment dates for these students are stored in a dictionary for lookup."
   ]
  },
  {
   "cell_type": "markdown",
   "metadata": {},
   "source": [
    "#### Getting Data from First Week"
   ]
  },
  {
   "cell_type": "markdown",
   "metadata": {},
   "source": [
    "A list of rows form the engagement table where\n",
    "- student is in paid_student\n",
    "- date is within one week of student's join date "
   ]
  },
  {
   "cell_type": "code",
   "execution_count": 72,
   "metadata": {
    "collapsed": true
   },
   "outputs": [],
   "source": [
    "# Takes a student's join date and the date of a specific engagement record,\n",
    "# and returns True if that engagement record happened within one week\n",
    "# of the student joining.\n",
    "\n",
    "# checks if one date is within one week of another \n",
    "# def within_one_week(join_date, engagement_date):\n",
    "#    time_delta = engagement_date - join_date\n",
    "#    return time_delta.days < 7\n",
    "\n",
    "\n",
    "\n",
    "def within_one_week(join_date, engagement_date):\n",
    "    time_delta = engagement_date - join_date\n",
    "    return time_delta.days < 7 and time_delta.days >= 0"
   ]
  },
  {
   "cell_type": "code",
   "execution_count": 73,
   "metadata": {
    "collapsed": true
   },
   "outputs": [],
   "source": [
    "## Create a list of rows from the engagement table including only rows where\n",
    "## the student is one of the paid students you just found, and the date is within\n",
    "## one week of the student's join date.\n",
    "\n",
    "\n",
    "# remove students who cancelled from the free trial \n",
    "def remove_free_trial_cancels(data):\n",
    "    new_data = []\n",
    "    for data_point in data:\n",
    "        if data_point['account_key'] in paid_students:\n",
    "            new_data.append(data_point)\n",
    "    return new_data "
   ]
  },
  {
   "cell_type": "code",
   "execution_count": 74,
   "metadata": {},
   "outputs": [
    {
     "name": "stdout",
     "output_type": "stream",
     "text": [
      "1293\n",
      "134549\n",
      "3618\n"
     ]
    }
   ],
   "source": [
    "# apply to our data\n",
    "paid_enrollments = remove_free_trial_cancels(non_udacity_enrollments)\n",
    "paid_engagement = remove_free_trial_cancels(non_udacity_engagement)\n",
    "paid_submissions = remove_free_trial_cancels(non_udacity_submissions)\n",
    "\n",
    "# check length of these data \n",
    "# see how much data has been removed\n",
    "\n",
    "print len(paid_enrollments)\n",
    "print len(paid_engagement)\n",
    "print len(paid_submissions)"
   ]
  },
  {
   "cell_type": "code",
   "execution_count": 75,
   "metadata": {},
   "outputs": [
    {
     "data": {
      "text/plain": [
       "6919"
      ]
     },
     "execution_count": 75,
     "metadata": {},
     "output_type": "execute_result"
    }
   ],
   "source": [
    "paid_engagement_in_first_week = []\n",
    "\n",
    "# save student's account key under account_key \n",
    "for engagement_record in paid_engagement: \n",
    "    account_key = engagement_record['account_key']\n",
    "    join_date = paid_students[account_key]\n",
    "    engagement_record_date = engagement_record['utc_date']\n",
    "\n",
    "    # check if two dates are within one week of each other \n",
    "    if within_one_week(join_date, engagement_record_date):\n",
    "        paid_engagement_in_first_week.append(engagement_record)\n",
    "        \n",
    "len(paid_engagement_in_first_week)\n"
   ]
  },
  {
   "cell_type": "markdown",
   "metadata": {},
   "source": [
    "This means 21508 engagement records come from the student's first week. "
   ]
  },
  {
   "cell_type": "code",
   "execution_count": 76,
   "metadata": {
    "collapsed": true,
    "scrolled": true
   },
   "outputs": [],
   "source": [
    "# added \"has_visited\" field to get the total number of days the student visited the classroom for later \n",
    "\n",
    "for engagement_record in paid_engagement:\n",
    "    if engagement_record['num_courses_visited'] > 0: \n",
    "        engagement_record['has_visited'] = 1\n",
    "    else:\n",
    "        engagement_record['has_visited'] = 0 "
   ]
  },
  {
   "cell_type": "markdown",
   "metadata": {},
   "source": [
    "#### Exploring Student Engagement"
   ]
  },
  {
   "cell_type": "markdown",
   "metadata": {},
   "source": [
    "Looking at the average time students spend in the classroom during the first week. Seperate engagement records into groups. What kind of groups?\n",
    "\n",
    "Getting the average time spent in classroom: In terms of data structures, we can store our data using a dictionary where the keys are the account numbers, and the values are a list correponding to that account's engagement record. This allows us the take the sum of the engagements for each student from the list. We can average out all the totals from every student to get the average time spent in classrooms. "
   ]
  },
  {
   "cell_type": "code",
   "execution_count": 77,
   "metadata": {
    "collapsed": true
   },
   "outputs": [],
   "source": [
    "# Create a dictionary of engagement grouped by student.\n",
    "\n",
    "# Create a dictionary of engagement grouped by student.\n",
    "# The keys are account keys, and the values are lists of engagement records.\n",
    "# default dict value is a list \n",
    "engagement_by_account = defaultdict(list)\n",
    "for engagement_record in paid_engagement_in_first_week:\n",
    "    account_key = engagement_record['account_key']\n",
    "    engagement_by_account[account_key].append(engagement_record)"
   ]
  },
  {
   "cell_type": "code",
   "execution_count": 78,
   "metadata": {
    "collapsed": true
   },
   "outputs": [],
   "source": [
    "# Create a dictionary with the total minutes each student spent in the classroom during the first week.\n",
    "# The keys are account keys, and the values are numbers (total minutes)\n",
    "\n",
    "# add up number of minutes for each account \n",
    "total_minutes_by_account = {}\n",
    "\n",
    "for account_key, engagement_for_student in engagement_by_account.items():\n",
    "    total_minutes = 0\n",
    "    for engagement_record in engagement_for_student:\n",
    "        total_minutes += engagement_record['total_minutes_visited']\n",
    "    # add \"total_minutes\" in our dictionary \n",
    "    total_minutes_by_account[account_key] = total_minutes"
   ]
  },
  {
   "cell_type": "code",
   "execution_count": 79,
   "metadata": {
    "scrolled": true
   },
   "outputs": [
    {
     "name": "stdout",
     "output_type": "stream",
     "text": [
      "Mean: 306.708326753\n",
      "Standard deviation: 412.996933409\n",
      "Minimum: 0.0\n",
      "Maximum: 3564.7332645\n"
     ]
    }
   ],
   "source": [
    "\n",
    "# Summarize the data about minutes spent in the classroom\n",
    "\n",
    "# average of total minutes from each account key \n",
    "total_minutes = total_minutes_by_account.values()\n",
    "\n",
    "# use numpy to calculate the average \n",
    "print 'Mean:', np.mean(total_minutes)\n",
    "print 'Standard deviation:', np.std(total_minutes)\n",
    "print 'Minimum:', np.min(total_minutes)\n",
    "print 'Maximum:', np.max(total_minutes)"
   ]
  },
  {
   "cell_type": "markdown",
   "metadata": {},
   "source": [
    "#### Fixing problems\n",
    "\n",
    "The first time i ran this - there was an error with the within_one_week function where maximum was 10,568 minutes. A maximum of 10,568 minutes seems too large? There are only 10,080 minutes in one week. This data should only be for accounts < 1 weeks. What could have went wrong?\n",
    "\n",
    "Let's start by printing out the student with 10568 total minutes.For student_with_max_minutes who has 10,568 minutes in engagement time in a one week time frame, there are way more than 7 entries. The dates are within a four month time period instead of a one week time period. What could be responsible for this error?\n",
    "\n",
    "Check our original within_one_week function:\n",
    "* def within_one_week(join_date, engagement_date):\n",
    "*    time_delta = engagement_date - join_date\n",
    "*    return time_delta.days < 7\n",
    "\n",
    "We checked whether the engagement date came seven days after the join date. However, what if the engagement date came after the join date? Students who enrolled but dropped the course and then re-enroll are the result of this error. A solution to this problem is to check engagement data only for a student's most recent enrollment. We can do that by checking at least 0 days have passed from the join date to the engagement date. I commented out the original function, fixed the problem, and reran the cells.\n",
    "\n",
    "\n",
    "* def within_one_week(join_date, engagement_date):\n",
    "*    time_delta = engagement_date - join_date\n",
    "*    return time_delta.days < 7 and time_delta.days >= 0\n",
    "\n"
   ]
  },
  {
   "cell_type": "code",
   "execution_count": 80,
   "metadata": {},
   "outputs": [
    {
     "data": {
      "text/plain": [
       "3564.7332644989997"
      ]
     },
     "execution_count": 80,
     "metadata": {},
     "output_type": "execute_result"
    }
   ],
   "source": [
    "#initialize student first \n",
    "student_with_max_minutes = None\n",
    "max_minutes =0 \n",
    "\n",
    "# loop over each student and their total minutes \n",
    "for student, total_minutes in total_minutes_by_account.items():\n",
    "    if total_minutes > max_minutes:\n",
    "        # reset max student and max minutes \n",
    "        max_minutes = total_minutes\n",
    "        student_with_max_minutes = student \n",
    "\n",
    "max_minutes"
   ]
  },
  {
   "cell_type": "code",
   "execution_count": 81,
   "metadata": {
    "scrolled": true
   },
   "outputs": [
    {
     "name": "stdout",
     "output_type": "stream",
     "text": [
      "{u'lessons_completed': 4, u'num_courses_visited': 4, 'has_visited': 1, u'total_minutes_visited': 850.519339666, u'projects_completed': 0, 'account_key': u'163', u'utc_date': datetime.datetime(2015, 7, 9, 0, 0)}\n",
      "{u'lessons_completed': 6, u'num_courses_visited': 6, 'has_visited': 1, u'total_minutes_visited': 872.633923334, u'projects_completed': 0, 'account_key': u'163', u'utc_date': datetime.datetime(2015, 7, 10, 0, 0)}\n",
      "{u'lessons_completed': 6, u'num_courses_visited': 2, 'has_visited': 1, u'total_minutes_visited': 777.018903666, u'projects_completed': 0, 'account_key': u'163', u'utc_date': datetime.datetime(2015, 7, 11, 0, 0)}\n",
      "{u'lessons_completed': 2, u'num_courses_visited': 1, 'has_visited': 1, u'total_minutes_visited': 294.568774, u'projects_completed': 0, 'account_key': u'163', u'utc_date': datetime.datetime(2015, 7, 12, 0, 0)}\n",
      "{u'lessons_completed': 1, u'num_courses_visited': 3, 'has_visited': 1, u'total_minutes_visited': 471.2139785, u'projects_completed': 0, 'account_key': u'163', u'utc_date': datetime.datetime(2015, 7, 13, 0, 0)}\n",
      "{u'lessons_completed': 1, u'num_courses_visited': 2, 'has_visited': 1, u'total_minutes_visited': 298.778345333, u'projects_completed': 0, 'account_key': u'163', u'utc_date': datetime.datetime(2015, 7, 14, 0, 0)}\n",
      "{u'lessons_completed': 0, u'num_courses_visited': 0, 'has_visited': 0, u'total_minutes_visited': 0.0, u'projects_completed': 0, 'account_key': u'163', u'utc_date': datetime.datetime(2015, 7, 15, 0, 0)}\n"
     ]
    }
   ],
   "source": [
    "# print each engagement record for this specific student\n",
    "\n",
    "for engagement_record in paid_engagement_in_first_week:\n",
    "    if engagement_record['account_key'] == student_with_max_minutes:\n",
    "        print engagement_record"
   ]
  },
  {
   "cell_type": "markdown",
   "metadata": {},
   "source": [
    "Maximum = 3565 minutes after debugging which is more reasonable."
   ]
  },
  {
   "cell_type": "markdown",
   "metadata": {},
   "source": [
    "#### Lessons Completed in First Week"
   ]
  },
  {
   "cell_type": "code",
   "execution_count": 82,
   "metadata": {
    "collapsed": true
   },
   "outputs": [],
   "source": [
    "## Adapt the code above to find the mean, standard deviation, minimum, and maximum for\n",
    "## the number of lessons completed by each student during the first week. Try creating\n",
    "## one or more functions to re-use the code above.\n"
   ]
  },
  {
   "cell_type": "markdown",
   "metadata": {},
   "source": [
    "Let's analyze the average number of lessons completed in the first week.\n",
    "\n",
    "Noticing the simularities between the code for avg number of lessons complete in the first week and the code for the avg number of time spent in a student's first week, we can write some functions to simplify this process. \n",
    "\n",
    "Create three functions to do the following:\n",
    "* 1) group records by account keys\n",
    "* 2) sum up all the records by each account key \n",
    "* 3) print out summary statistics like mean, standard deviation, maximum, and minimum "
   ]
  },
  {
   "cell_type": "code",
   "execution_count": 83,
   "metadata": {
    "collapsed": true
   },
   "outputs": [],
   "source": [
    "# 1) group records by account keys\n",
    "\n",
    "# insert data, groups data by key_name  \n",
    "# note pandas has a function for this \n",
    "def group_data(data, key_name):\n",
    "    grouped_data = defaultdict(list)\n",
    "    for data_point in data:\n",
    "        key = data_point[key_name]\n",
    "        grouped_data[key].append(data_point)\n",
    "    return grouped_data \n",
    "\n",
    "# getting engagement_by_account information using the group_data function \n",
    "engagement_by_account = group_data(paid_engagement_in_first_week, 'account_key')\n"
   ]
  },
  {
   "cell_type": "code",
   "execution_count": 84,
   "metadata": {
    "collapsed": true
   },
   "outputs": [],
   "source": [
    "# add up number of minutes for each account \n",
    "# grouped_data : data input \n",
    "# field_name : the column you want to sum over \n",
    "\n",
    "def sum_grouped_items(grouped_data, field_name):\n",
    "    summed_data = {}\n",
    "    \n",
    "    for key, data_points in grouped_data.items():\n",
    "        total = 0 \n",
    "        for data_point in data_points:\n",
    "            total += data_point[field_name]\n",
    "        summed_data[key] = total \n",
    "    \n",
    "    return summed_data\n",
    "\n",
    "# sum of total minutes by account \n",
    "total_minutes_by_account = sum_grouped_items(engagement_by_account, 'total_minutes_visited')\n",
    "\n"
   ]
  },
  {
   "cell_type": "code",
   "execution_count": 103,
   "metadata": {
    "scrolled": true
   },
   "outputs": [
    {
     "name": "stdout",
     "output_type": "stream",
     "text": [
      "Mean: 306.708326753\n",
      "Standard deviation: 412.996933409\n",
      "Minimum: 0.0\n",
      "Maximum: 3564.7332645\n"
     ]
    },
    {
     "data": {
      "image/png": "[encoded data removed]",
      "text/plain": [
       "<matplotlib.figure.Figure at 0x11eff81d0>"
      ]
     },
     "metadata": {},
     "output_type": "display_data"
    }
   ],
   "source": [
    "def describe_data(data):\n",
    "    print 'Mean:', np.mean(data)\n",
    "    print 'Standard deviation:', np.std(data)\n",
    "    print 'Minimum:', np.min(data)\n",
    "    print 'Maximum:', np.max(data)\n",
    "    # plot histogram of data \n",
    "    plt.hist(data) \n",
    "\n",
    "total_minutes = total_minutes_by_account.values()\n",
    "describe_data(total_minutes)"
   ]
  },
  {
   "cell_type": "markdown",
   "metadata": {},
   "source": [
    "Analyze the average number of lessons completed by a student \n",
    "\n"
   ]
  },
  {
   "cell_type": "code",
   "execution_count": 86,
   "metadata": {},
   "outputs": [
    {
     "name": "stdout",
     "output_type": "stream",
     "text": [
      "Mean: 1.63618090452\n",
      "Standard deviation: 3.00256129983\n",
      "Minimum: 0\n",
      "Maximum: 36\n"
     ]
    },
    {
     "data": {
      "image/png": "[encoded data removed]",
      "text/plain": [
       "<matplotlib.figure.Figure at 0x122ea6490>"
      ]
     },
     "metadata": {},
     "output_type": "display_data"
    }
   ],
   "source": [
    "# group the engagement data by account\n",
    "# sum up the total amount of lessons completed by each account key \n",
    "\n",
    "lessons_completed_by_account = sum_grouped_items(engagement_by_account, 'lessons_completed')\n",
    "\n",
    "describe_data(lessons_completed_by_account.values())\n"
   ]
  },
  {
   "cell_type": "markdown",
   "metadata": {},
   "source": [
    "Therefore, mean number of lessons completed by students is around 1.6 with a standard deviation of 3. The large standard deviation makes sense since students from different backgrounds are taking the course at different rates. "
   ]
  },
  {
   "cell_type": "markdown",
   "metadata": {},
   "source": [
    "#### Splitting out Passing Students"
   ]
  },
  {
   "cell_type": "markdown",
   "metadata": {},
   "source": [
    "Number of visits in the first week \n",
    "\n",
    "A natural question is to find the average number of courses visited by each student. Apply the same method before? Add the total amount of courses visited for each student, then take the average. However, what if a student is taking multiple courses at the same time? \n",
    "\n",
    "\n",
    "A better question: \n",
    "We want to analyze the total number of days the student visited the classroom in a week, regardless of how many specific courses they visited that day. \n",
    "\n",
    "* change code in sum_grouped_items function \n",
    "* create a new field in the data calld \"has_visited\" which can be either a 1 or 0 where 1 = visited, 0 = not visited \n",
    "\n",
    "trying method 2, add a new \"has_visited\" field where we can call the old sum_grouped_item function and take the sum over the \"has_visited\" values :\n",
    "\n",
    "We will add the \"has_visited\" field under the paid_enrollments table after i removed the free trial cancels.\n"
   ]
  },
  {
   "cell_type": "code",
   "execution_count": 87,
   "metadata": {
    "scrolled": true
   },
   "outputs": [
    {
     "name": "stdout",
     "output_type": "stream",
     "text": [
      "Mean: 2.86733668342\n",
      "Standard deviation: 2.25519800292\n",
      "Minimum: 0\n",
      "Maximum: 7\n"
     ]
    },
    {
     "data": {
      "image/png": "[encoded data removed]",
      "text/plain": [
       "<matplotlib.figure.Figure at 0x1223c9dd0>"
      ]
     },
     "metadata": {},
     "output_type": "display_data"
    }
   ],
   "source": [
    "for engagement_record in paid_engagement:\n",
    "    if engagement_record['num_courses_visited'] > 0: \n",
    "        engagement_record['has_visited'] = 1\n",
    "    else:\n",
    "        engagement_record['has_visited'] = 0 \n",
    "\n",
    "days_visited_by_account = sum_grouped_items(engagement_by_account, 'has_visited')\n",
    "\n",
    "describe_data(days_visited_by_account.values())"
   ]
  },
  {
   "cell_type": "markdown",
   "metadata": {},
   "source": [
    "The average total number of days a student visits the classroom is around 3 days a week. "
   ]
  },
  {
   "cell_type": "markdown",
   "metadata": {},
   "source": [
    "Splitting Out Passing Students\n",
    "\n",
    "Let's split the daily engagement table into two lists \n",
    "\n",
    "* students who passed the first project\n",
    "* students who did not pass the first project"
   ]
  },
  {
   "cell_type": "code",
   "execution_count": 88,
   "metadata": {},
   "outputs": [
    {
     "data": {
      "text/plain": [
       "{u'account_key': u'256',\n",
       " u'assigned_rating': u'UNGRADED',\n",
       " u'completion_date': datetime.datetime(2015, 1, 16, 0, 0),\n",
       " u'creation_date': datetime.datetime(2015, 1, 14, 0, 0),\n",
       " u'lesson_key': u'3176718735',\n",
       " u'processing_state': u'EVALUATED'}"
      ]
     },
     "execution_count": 88,
     "metadata": {},
     "output_type": "execute_result"
    }
   ],
   "source": [
    "## Create two lists of engagement data for paid students in the first week.\n",
    "## The first list should contain data for students who eventually pass the\n",
    "## subway project, and the second list should contain data for students\n",
    "## who do not.\n",
    "\n",
    "\n",
    "# Udacity's first project was subway_project which falls under two different keys\n",
    "subway_project_lesson_keys = ['746169184', '3176718735']\n",
    "\n",
    "\n",
    "#reminder of waht the submission data given was? \n",
    "paid_submissions[0]"
   ]
  },
  {
   "cell_type": "markdown",
   "metadata": {},
   "source": [
    "From double checking our submission data, we notice two important columns:\n",
    "\n",
    "* assigned_rating field = check if student passed or not -- note PASSED and DISTINCTION both mean the student passed the subject\n",
    "\n",
    "* lesson_key = check for the udacity subway project"
   ]
  },
  {
   "cell_type": "code",
   "execution_count": 89,
   "metadata": {},
   "outputs": [
    {
     "data": {
      "text/plain": [
       "647"
      ]
     },
     "execution_count": 89,
     "metadata": {},
     "output_type": "execute_result"
    }
   ],
   "source": [
    "# students who passed the subway projects \n",
    "\n",
    "pass_subway_project = set()\n",
    "\n",
    "for submission in paid_submissions:\n",
    "    project = submission['lesson_key']\n",
    "    rating = submission['assigned_rating']\n",
    "    \n",
    "    # check if project was subway project  \n",
    "    if project in subway_project_lesson_keys and (rating == 'PASSED' or rating == 'DISTINCTION'):\n",
    "        pass_subway_project.add(submission['account_key'])\n",
    "\n",
    "# check how many unique students passed the subway project \n",
    "len(pass_subway_project)\n"
   ]
  },
  {
   "cell_type": "code",
   "execution_count": 90,
   "metadata": {},
   "outputs": [
    {
     "name": "stdout",
     "output_type": "stream",
     "text": [
      "4527\n",
      "2392\n"
     ]
    }
   ],
   "source": [
    "# split data into passing vs non-passing projects \n",
    "\n",
    "# empty lists \n",
    "passing_engagement = []\n",
    "non_passing_engagement = []\n",
    "\n",
    "for engagement_record in paid_engagement_in_first_week:\n",
    "    # check if account key is one that passed the subway project \n",
    "    if engagement_record['account_key'] in pass_subway_project:\n",
    "        passing_engagement.append(engagement_record)\n",
    "    else:\n",
    "        non_passing_engagement.append(engagement_record)\n",
    "        \n",
    "print len(passing_engagement)\n",
    "print len(non_passing_engagement)"
   ]
  },
  {
   "cell_type": "markdown",
   "metadata": {},
   "source": [
    "#### Comparing the Two Student Groups"
   ]
  },
  {
   "cell_type": "markdown",
   "metadata": {},
   "source": [
    "Comparing students who pass vs students who do not pass\n",
    "\n",
    "possible metrics \n",
    "* minutes spent\n",
    "* lessons completed\n",
    "* days visited \n",
    "* other\n"
   ]
  },
  {
   "cell_type": "code",
   "execution_count": 91,
   "metadata": {
    "scrolled": true
   },
   "outputs": [
    {
     "name": "stdout",
     "output_type": "stream",
     "text": [
      "non-passing students:\n",
      "Mean: 143.326474267\n",
      "Standard deviation: 269.538619011\n",
      "Minimum: 0.0\n",
      "Maximum: 1768.52274933\n",
      "passing students:\n",
      "Mean: 394.586046484\n",
      "Standard deviation: 448.499519327\n",
      "Minimum: 0.0\n",
      "Maximum: 3564.7332645\n"
     ]
    },
    {
     "data": {
      "image/png": "[encoded data removed]",
      "text/plain": [
       "<matplotlib.figure.Figure at 0x122e07350>"
      ]
     },
     "metadata": {},
     "output_type": "display_data"
    }
   ],
   "source": [
    "#MINUTES SPENT FOR PASSING VS NON PASSING STUDENTS\n",
    "\n",
    "passing_engagement_by_account = group_data(passing_engagement, 'account_key')\n",
    "\n",
    "non_passing_engagement_by_account = group_data(non_passing_engagement, 'account_key')\n",
    "\n",
    "\n",
    "print 'non-passing students:'\n",
    "non_passing_minutes = sum_grouped_items(non_passing_engagement_by_account, 'total_minutes_visited')\n",
    "describe_data(non_passing_minutes.values())\n",
    "\n",
    "\n",
    "print 'passing students:'\n",
    "passing_minutes = sum_grouped_items(passing_engagement_by_account, 'total_minutes_visited')\n",
    "describe_data(passing_minutes.values())\n",
    "\n"
   ]
  },
  {
   "cell_type": "markdown",
   "metadata": {},
   "source": [
    "What do we notice?\n",
    "\n",
    "* passing students spend more time in the classroom (395 minutes/week) compared to non-passing students (143 minutes/week)\n",
    "* std for passing students is higher - since the mean is higher, it is expected for the std to be higher as well - also the more time students are spending, the easier it is to have more variations in the times\n",
    "* maximum number of time spent in the classroom is higher for passing students "
   ]
  },
  {
   "cell_type": "code",
   "execution_count": 92,
   "metadata": {},
   "outputs": [
    {
     "name": "stdout",
     "output_type": "stream",
     "text": [
      "non-passing students:\n",
      "Mean: 0.862068965517\n",
      "Standard deviation: 2.54915994183\n",
      "Minimum: 0\n",
      "Maximum: 27\n",
      "passing students:\n",
      "Mean: 2.05255023184\n",
      "Standard deviation: 3.14222705558\n",
      "Minimum: 0\n",
      "Maximum: 36\n"
     ]
    },
    {
     "data": {
      "image/png": "[encoded data removed]",
      "text/plain": [
       "<matplotlib.figure.Figure at 0x122e91550>"
      ]
     },
     "metadata": {},
     "output_type": "display_data"
    }
   ],
   "source": [
    "# LESSONS COMPLETED FOR PASSING VS NON PASSING STUDENTS\n",
    "\n",
    "print 'non-passing students:'\n",
    "non_passing_lessons = sum_grouped_items(non_passing_engagement_by_account, 'lessons_completed')\n",
    "describe_data(non_passing_lessons.values())\n",
    "\n",
    "\n",
    "print 'passing students:'\n",
    "passing_lessons = sum_grouped_items(passing_engagement_by_account, 'lessons_completed')\n",
    "describe_data(passing_lessons.values())\n"
   ]
  },
  {
   "cell_type": "markdown",
   "metadata": {},
   "source": [
    "What do we notice?\n",
    "\n",
    "* passing students complete more lessons \n",
    "* average pace for passing student is 2 lessons/ week \n",
    "* maximum is higher for students who pass \n"
   ]
  },
  {
   "cell_type": "code",
   "execution_count": 93,
   "metadata": {},
   "outputs": [
    {
     "name": "stdout",
     "output_type": "stream",
     "text": [
      "non-passing students:\n",
      "Mean: 1.90517241379\n",
      "Standard deviation: 1.90573144136\n",
      "Minimum: 0\n",
      "Maximum: 7\n",
      "passing students:\n",
      "Mean: 3.38485316847\n",
      "Standard deviation: 2.25882147092\n",
      "Minimum: 0\n",
      "Maximum: 7\n"
     ]
    },
    {
     "data": {
      "image/png": "[encoded data removed]",
      "text/plain": [
       "<matplotlib.figure.Figure at 0x11a5c4650>"
      ]
     },
     "metadata": {},
     "output_type": "display_data"
    }
   ],
   "source": [
    "# DAYS VISITED FOR PASSING VS NON PASSING STUDENTS\n",
    "\n",
    "print 'non-passing students:'\n",
    "non_passing_visits = sum_grouped_items(non_passing_engagement_by_account, 'has_visited')\n",
    "describe_data(non_passing_visits.values())\n",
    "\n",
    "\n",
    "print 'passing students:'\n",
    "passing_visits = sum_grouped_items(passing_engagement_by_account, 'has_visited')\n",
    "describe_data(passing_visits.values())\n"
   ]
  },
  {
   "cell_type": "code",
   "execution_count": 94,
   "metadata": {
    "scrolled": true
   },
   "outputs": [
    {
     "data": {
      "text/plain": [
       "<matplotlib.text.Text at 0x1229b9e90>"
      ]
     },
     "execution_count": 94,
     "metadata": {},
     "output_type": "execute_result"
    },
    {
     "data": {
      "image/png": "[encoded data removed]",
      "text/plain": [
       "<matplotlib.figure.Figure at 0x1229b0d10>"
      ]
     },
     "metadata": {},
     "output_type": "display_data"
    }
   ],
   "source": [
    "# 8 bins for 8 possibilities of days - from 0 to 7\n",
    "plt.hist(passing_visits.values(), bins = 8)\n",
    "plt.xlabel('Number of days')\n",
    "plt.title('Distribution of classroom visits in the first week'+ \n",
    "         'for students who pass the subway project')"
   ]
  },
  {
   "cell_type": "code",
   "execution_count": 95,
   "metadata": {},
   "outputs": [
    {
     "data": {
      "text/plain": [
       "<matplotlib.text.Text at 0x11ad43310>"
      ]
     },
     "execution_count": 95,
     "metadata": {},
     "output_type": "execute_result"
    },
    {
     "data": {
      "image/png": "[encoded data removed]",
      "text/plain": [
       "<matplotlib.figure.Figure at 0x122a49650>"
      ]
     },
     "metadata": {},
     "output_type": "display_data"
    }
   ],
   "source": [
    "plt.hist(non_passing_visits.values(), bins=8)\n",
    "plt.xlabel('Number of days')\n",
    "plt.title('Distribution of classroom visits in the first week'+ \n",
    "         'for students who do notpass the subway project')"
   ]
  },
  {
   "cell_type": "markdown",
   "metadata": {},
   "source": [
    "What do we notice?\n",
    "* For passing students, the number of days visited is higher \n",
    "* For both passing and non-passing students, the minimum and maximum days were the same \n",
    "\n",
    "\n",
    "#### Conclusions\n",
    "\n",
    "The strongest trend noticable is that students who pass the subway project spend more minutes in the classroom the first week compared to students who do not pass. How do we know if the difference is a true difference, or a difference due to noise in the data? We would need to use statistics to check how likely it is that your results are due to chance, or how statistically significant the difference is. \n",
    "\n",
    "Interesting Findings \n",
    "* difference in total minutes --> report average minutes \n",
    "* difference in days visited --> show histograms \n",
    "\n",
    "It should be noted that correlation does not imply causation. For example, students who pass the first project is correlated to visit the clasroom multiple times in their first week. We can not say that students who visit the classroom multiple times in their first week causes them to pass their projects. It could be due to other factors. \n",
    "Example of possible factors include the level of interest. People who are not interested in data science will be less interested to pass the course. Udacity should recommend other courses to them. Another possible factor would be a lack of background knowledge. People who lack a programming background can fall behind and be not pass the course. Udacity can recommend an intro programming course as a prereq. \n",
    "\n",
    "In order to truly find out if there is a causation between two variables, we will need to run an A/B test. To make predictions with the data, machine learning and statistical inferences need to be added. For instance, given this data, can we predict which students are more likely to pass their first project? \n",
    "\n",
    "\n"
   ]
  }
 ],
 "metadata": {
  "kernelspec": {
   "display_name": "Python [cats]",
   "language": "python",
   "name": "Python [cats]"
  },
  "language_info": {
   "codemirror_mode": {
    "name": "ipython",
    "version": 2
   },
   "file_extension": ".py",
   "mimetype": "text/x-python",
   "name": "python",
   "nbconvert_exporter": "python",
   "pygments_lexer": "ipython2",
   "version": "2.7.14"
  }
 },
 "nbformat": 4,
 "nbformat_minor": 1
}
